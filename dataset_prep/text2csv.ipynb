{
 "cells": [
  {
   "cell_type": "code",
   "execution_count": 30,
   "id": "9ede3b69",
   "metadata": {},
   "outputs": [],
   "source": [
    "import csv\n",
    "\n",
    "# Open the first text file for reading\n",
    "with open('25_original.txt', 'r') as file:\n",
    "    # Read the entire file content and split it into paragraphs\n",
    "    paragraphs1 = file.read().split('\\n\\n')\n",
    "\n",
    "# Open the second text file for reading\n",
    "with open('25_plag.txt', 'r') as file:\n",
    "    # Read the entire file content and split it into paragraphs\n",
    "    paragraphs2 = file.read().split('\\n\\n')\n",
    "\n",
    "# Open the CSV file for writing\n",
    "with open('25.csv', 'w', newline='') as file:\n",
    "    # Create a CSV writer object\n",
    "    writer = csv.writer(file)\n",
    "\n",
    "    # Write each pair of paragraphs as a new row in the CSV file\n",
    "    for i in range(max(len(paragraphs1), len(paragraphs2))):\n",
    "        row = []\n",
    "        if i < len(paragraphs1):\n",
    "            row.append(paragraphs1[i])\n",
    "        else:\n",
    "            row.append('')\n",
    "        if i < len(paragraphs2):\n",
    "            row.append(paragraphs2[i])\n",
    "        else:\n",
    "            row.append('')\n",
    "        writer.writerow(row)\n"
   ]
  },
  {
   "cell_type": "code",
   "execution_count": null,
   "id": "d79a03c8",
   "metadata": {},
   "outputs": [],
   "source": []
  }
 ],
 "metadata": {
  "kernelspec": {
   "display_name": "Python 3 (ipykernel)",
   "language": "python",
   "name": "python3"
  },
  "language_info": {
   "codemirror_mode": {
    "name": "ipython",
    "version": 3
   },
   "file_extension": ".py",
   "mimetype": "text/x-python",
   "name": "python",
   "nbconvert_exporter": "python",
   "pygments_lexer": "ipython3",
   "version": "3.9.13"
  }
 },
 "nbformat": 4,
 "nbformat_minor": 5
}
